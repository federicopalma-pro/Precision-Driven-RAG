{
 "cells": [
  {
   "cell_type": "markdown",
   "id": "ccba3c34-bc83-48b0-870b-0a8785a7eceb",
   "metadata": {},
   "source": [
    "### System libraries & setup"
   ]
  },
  {
   "cell_type": "code",
   "execution_count": 1,
   "id": "a219c4a3-a200-4201-a0c2-8b1aaa1e1502",
   "metadata": {},
   "outputs": [],
   "source": [
    "import chromadb\n",
    "import os\n",
    "import nest_asyncio\n",
    "from dotenv import load_dotenv"
   ]
  },
  {
   "cell_type": "code",
   "execution_count": 4,
   "id": "345c4d5c-6c4b-48e9-af0d-f9d43a843277",
   "metadata": {},
   "outputs": [],
   "source": [
    "nest_asyncio.apply()\n",
    "load_dotenv()\n",
    "OPENAI_API_KEY = os.getenv(\"OPENAI_API_KEY\")"
   ]
  },
  {
   "cell_type": "markdown",
   "id": "2729907f-89ab-49ee-8be6-46a754c3a2ad",
   "metadata": {},
   "source": [
    "### Llama Index libraries"
   ]
  },
  {
   "cell_type": "code",
   "execution_count": 5,
   "id": "eda1d830-0897-44ea-b144-4690680cfea6",
   "metadata": {},
   "outputs": [],
   "source": [
    "from llama_index.packs.raptor import RaptorRetriever\n",
    "from llama_index.llms.openai import OpenAI\n",
    "from llama_index.embeddings.openai import OpenAIEmbedding\n",
    "from llama_index.vector_stores.chroma import ChromaVectorStore\n",
    "from llama_index.core.query_engine import RetrieverQueryEngine"
   ]
  },
  {
   "cell_type": "markdown",
   "id": "0c99a495-ac40-4497-aa87-24ae76d6707b",
   "metadata": {},
   "source": [
    "### Langchain libraries"
   ]
  },
  {
   "cell_type": "code",
   "execution_count": 6,
   "id": "feabe922-26e2-4782-9d9f-6eb303e34d58",
   "metadata": {},
   "outputs": [],
   "source": [
    "from langchain_chroma import Chroma\n",
    "from langchain_openai import ChatOpenAI\n",
    "from langchain_openai import OpenAIEmbeddings as Embeddings"
   ]
  },
  {
   "cell_type": "markdown",
   "id": "4cf71026-9427-45ad-91fd-b3b5c045696a",
   "metadata": {},
   "source": [
    "### User's query"
   ]
  },
  {
   "cell_type": "code",
   "execution_count": 7,
   "id": "f0c0689f-5e81-4851-aba3-688e5497c6e8",
   "metadata": {},
   "outputs": [],
   "source": [
    "query_raptor = \"What did the March Hare offer to Alice at A Mad Tea-Party?\""
   ]
  },
  {
   "cell_type": "markdown",
   "id": "8a65d6de-82b0-4741-911a-9253018fb6f1",
   "metadata": {},
   "source": [
    "### RAPTOR RAG"
   ]
  },
  {
   "cell_type": "code",
   "execution_count": 8,
   "id": "1b63acc3-6233-4b9d-8f17-276473869995",
   "metadata": {},
   "outputs": [],
   "source": [
    "embed_model = OpenAIEmbedding(model=\"text-embedding-3-small\")"
   ]
  },
  {
   "cell_type": "code",
   "execution_count": 9,
   "id": "818eb51c-cfe7-42a0-b648-f0f6f0bc05d1",
   "metadata": {},
   "outputs": [],
   "source": [
    "client_raptor = chromadb.PersistentClient(path=\"./raptor_db\")\n",
    "collection_raptor = client_raptor.get_collection(\"docs\")\n",
    "vector_store_raptor = ChromaVectorStore(chroma_collection=collection_raptor)"
   ]
  },
  {
   "cell_type": "code",
   "execution_count": 10,
   "id": "df5c542b-66a3-42ec-9f8e-b4d3140297a7",
   "metadata": {},
   "outputs": [],
   "source": [
    "retriever_raptor = RaptorRetriever(\n",
    "    [],\n",
    "    vector_store=vector_store_raptor,  \n",
    "    similarity_top_k=3,  \n",
    "    mode=\"collapsed\",  \n",
    ")"
   ]
  },
  {
   "cell_type": "code",
   "execution_count": 11,
   "id": "631d6c4e-87d2-4525-a1e5-d59e1a172e06",
   "metadata": {},
   "outputs": [],
   "source": [
    "query_engine = RetrieverQueryEngine.from_args(\n",
    "    retriever_raptor, llm=OpenAI(model=\"gpt-3.5-turbo\", temperature=0)\n",
    ")"
   ]
  },
  {
   "cell_type": "code",
   "execution_count": 12,
   "id": "3d09cd52-c53f-4c76-9043-7cea463f64e8",
   "metadata": {},
   "outputs": [],
   "source": [
    "response = query_engine.query(query_raptor)"
   ]
  },
  {
   "cell_type": "markdown",
   "id": "85a3c5ba-25e0-454c-be4e-edb92bc7242c",
   "metadata": {},
   "source": [
    "### Answer from RAPTOR RAG"
   ]
  },
  {
   "cell_type": "code",
   "execution_count": 13,
   "id": "da8ed51a-c1fd-4cbc-b110-59098a88e88a",
   "metadata": {},
   "outputs": [
    {
     "name": "stdout",
     "output_type": "stream",
     "text": [
      "The March Hare offered Alice wine at A Mad Tea-Party.\n"
     ]
    }
   ],
   "source": [
    "print(response)"
   ]
  },
  {
   "cell_type": "markdown",
   "id": "82b571e1-3780-45d8-b15b-addb768fdb69",
   "metadata": {},
   "source": [
    "### Context RAG"
   ]
  },
  {
   "cell_type": "code",
   "execution_count": 14,
   "id": "b93e33e5-ada9-4e75-9b09-943495c80727",
   "metadata": {},
   "outputs": [],
   "source": [
    "embeddings = Embeddings(model=\"text-embedding-3-small\")"
   ]
  },
  {
   "cell_type": "code",
   "execution_count": 15,
   "id": "b29f6c30-248b-4718-ace7-02ac23e14f19",
   "metadata": {},
   "outputs": [],
   "source": [
    "query_semantic = str(response)"
   ]
  },
  {
   "cell_type": "code",
   "execution_count": 16,
   "id": "e2f9c6cf-000f-47ee-9032-55051b73da57",
   "metadata": {},
   "outputs": [],
   "source": [
    "client_semantic = chromadb.PersistentClient(path=\"./semantic_db\")\n",
    "collection = client_semantic.get_or_create_collection(\"docs\")"
   ]
  },
  {
   "cell_type": "code",
   "execution_count": 17,
   "id": "2d2f09a4-6a8e-44bc-8448-bdb958f637b3",
   "metadata": {},
   "outputs": [],
   "source": [
    "db_chroma = Chroma(\n",
    "    client=client_semantic ,\n",
    "    collection_name=\"docs\",\n",
    "    embedding_function=embeddings,\n",
    ")"
   ]
  },
  {
   "cell_type": "code",
   "execution_count": 18,
   "id": "311939c9-a221-4589-ac68-bcc5edd322d8",
   "metadata": {},
   "outputs": [],
   "source": [
    "chunks = db_chroma.similarity_search(query_semantic, k=3)"
   ]
  },
  {
   "cell_type": "code",
   "execution_count": 19,
   "id": "5a7578aa-66b7-4916-b190-e3c0c8b7e760",
   "metadata": {},
   "outputs": [],
   "source": [
    "texts = ''.join(str(i) for i in chunks)"
   ]
  },
  {
   "cell_type": "markdown",
   "id": "c11cb584-3331-404d-83ce-05affa3b835d",
   "metadata": {},
   "source": [
    "### Similar semantic chunks"
   ]
  },
  {
   "cell_type": "code",
   "execution_count": 20,
   "id": "ce844a18-ca35-4b35-af56-49f43fe81727",
   "metadata": {},
   "outputs": [
    {
     "name": "stdout",
     "output_type": "stream",
     "text": [
      "page_content='While she was looking at the place\\nwhere it had been, it suddenly appeared again. `By-the-bye, what became of the baby?\\' said the Cat. `I\\'d\\nnearly forgotten to ask.\\'\\n\\n  `It turned into a pig,\\' Alice quietly said, just as if it had\\ncome back in a natural way. `I thought it would,\\' said the Cat, and vanished again. Alice waited a little, half expecting to see it again, but it\\ndid not appear, and after a minute or two she walked on in the\\ndirection in which the March Hare was said to live. `I\\'ve seen\\nhatters before,\\' she said to herself; `the March Hare will be\\nmuch the most interesting, and perhaps as this is May it won\\'t be\\nraving mad--at least not so mad as it was in March.\\'  As she said\\nthis, she looked up, and there was the Cat again, sitting on a\\nbranch of a tree. `Did you say pig, or fig?\\' said the Cat. `I said pig,\\' replied Alice; `and I wish you wouldn\\'t keep\\nappearing and vanishing so suddenly:  you make one quite giddy.\\'\\n\\n  `All right,\\' said the Cat; and this time it vanished quite slowly,\\nbeginning with the end of the tail, and ending with the grin,\\nwhich remained some time after the rest of it had gone. `Well! I\\'ve often seen a cat without a grin,\\' thought Alice;\\n`but a grin without a cat! It\\'s the most curious thing I ever\\nsaw in my life!\\'\\n\\n  She had not gone much farther before she came in sight of the\\nhouse of the March Hare:  she thought it must be the right house,\\nbecause the chimneys were shaped like ears and the roof was\\nthatched with fur. It was so large a house, that she did not\\nlike to go nearer till she had nibbled some more of the lefthand\\nbit of mushroom, and raised herself to about two feet high:  even\\nthen she walked up towards it rather timidly, saying to herself\\n`Suppose it should be raving mad after all! I almost wish I\\'d\\ngone to see the Hatter instead!\\'\\n\\n\\n\\n                           CHAPTER VII\\n\\n                         A Mad Tea-Party\\n\\n\\n  There was a table set out under a tree in front of the house,\\nand the March Hare and the Hatter were having tea at it:  a\\nDormouse was sitting between them, fast asleep, and the other two\\nwere using it as a cushion, resting their elbows on it, and talking\\nover its head. `Very uncomfortable for the Dormouse,\\' thought Alice;\\n`only, as it\\'s asleep, I suppose it doesn\\'t mind.\\'\\n\\n  The table was a large one, but the three were all crowded\\ntogether at one corner of it:  `No room! No room!\\' they cried\\nout when they saw Alice coming. `There\\'s PLENTY of room!\\' said\\nAlice indignantly, and she sat down in a large arm-chair at one\\nend of the table. `Have some wine,\\' the March Hare said in an encouraging tone. Alice looked all round the table, but there was nothing on it\\nbut tea. `I don\\'t see any wine,\\' she remarked. `There isn\\'t any,\\' said the March Hare. `Then it wasn\\'t very civil of you to offer it,\\' said Alice\\nangrily. `It wasn\\'t very civil of you to sit down without being\\ninvited,\\' said the March Hare. `I didn\\'t know it was YOUR table,\\' said Alice; `it\\'s laid for a\\ngreat many more than three.\\'\\n\\n  `Your hair wants cutting,\\' said the Hatter. He had been\\nlooking at Alice for some time with great curiosity, and this was\\nhis first speech. `You should learn not to make personal remarks,\\' Alice said\\nwith some severity; `it\\'s very rude.\\'\\n\\n  The Hatter opened his eyes very wide on hearing this; but all\\nhe SAID was, `Why is a raven like a writing-desk?\\'\\n\\n  `Come, we shall have some fun now!\\' thought Alice. `I\\'m glad\\nthey\\'ve begun asking riddles.--I believe I can guess that,\\' she\\nadded aloud. `Do you mean that you think you can find out the answer to it?\\'\\nsaid the March Hare. `Exactly so,\\' said Alice. `Then you should say what you mean,\\' the March Hare went on. `I do,\\' Alice hastily replied; `at least--at least I mean what\\nI say--that\\'s the same thing, you know.\\'\\n\\n  `Not the same thing a bit!\\' said the Hatter. `You might just\\nas well say that \"I see what I eat\" is the same thing as \"I eat\\nwhat I see\"!\\'\\n\\n  `You might just as well say,\\' added the March Hare, `that \"I\\nlike what I get\" is the same thing as \"I get what I like\"!\\'\\n\\n  `You might just as well say,\\' added the Dormouse, who seemed to\\nbe talking in his sleep, `that \"I breathe when I sleep\" is the\\nsame thing as \"I sleep when I breathe\"!\\'\\n\\n  `It IS the same thing with you,\\' said the Hatter, and here the\\nconversation dropped, and the party sat silent for a minute,\\nwhile Alice thought over all she could remember about ravens and\\nwriting-desks, which wasn\\'t much. The Hatter was the first to break the silence.' metadata={'author': 'Lewis Carroll', 'chapter': '2', 'chapter_title': 'The Pool of Tears.', 'characters': 'Alice, Rabbit, Mary Ann', 'edition': 'The Millennium Fulcrum Edition 3.0', 'key_events': 'Alice trembles and shakes the house, Rabbit tries to open the door but fails, Alice makes a snatch in the air and hears a shriek and a fall', 'narrative_style': '', 'quotes': \"'Mary Ann!' said the voice. 'Fetch me my gloves this moment!'\", 'setting': '', 'source': 'alice_in_wonderland.txt', 'summary': 'Alice, now much larger than the Rabbit, hears it calling for Mary Ann and trying to enter the room. She prevents the Rabbit from entering by blocking the door and making a snatch in the air, causing a commotion.', 'themes': '', 'title': \"Alice's Adventures in Wonderland\"}page_content='`Not I!\\' he replied. `We quarrelled last March--just before HE went mad, you know--\\'\\n(pointing with his tea spoon at the March Hare,) `--it was at the\\ngreat concert given by the Queen of Hearts, and I had to sing\\n\\n            \"Twinkle, twinkle, little bat! How I wonder what you\\'re at!\"\\n\\nYou know the song, perhaps?\\'\\n\\n  `I\\'ve heard something like it,\\' said Alice. `It goes on, you know,\\' the Hatter continued, `in this way:--\\n\\n            \"Up above the world you fly,\\n            Like a tea-tray in the sky. Twinkle, twinkle--\"\\'\\n\\nHere the Dormouse shook itself, and began singing in its sleep\\n`Twinkle, twinkle, twinkle, twinkle--\\' and went on so long that\\nthey had to pinch it to make it stop. `Well, I\\'d hardly finished the first verse,\\' said the Hatter,\\n`when the Queen jumped up and bawled out, \"He\\'s murdering the\\ntime! Off with his head!\"\\'\\n\\n  `How dreadfully savage!\\' exclaimed Alice. `And ever since that,\\' the Hatter went on in a mournful tone,\\n`he won\\'t do a thing I ask! It\\'s always six o\\'clock now.\\'\\n\\n  A bright idea came into Alice\\'s head. `Is that the reason so\\nmany tea-things are put out here?\\' she asked. `Yes, that\\'s it,\\' said the Hatter with a sigh:  `it\\'s always\\ntea-time, and we\\'ve no time to wash the things between whiles.\\'\\n\\n  `Then you keep moving round, I suppose?\\' said Alice. `Exactly so,\\' said the Hatter:  `as the things get used up.\\'\\n\\n  `But what happens when you come to the beginning again?\\' Alice\\nventured to ask. `Suppose we change the subject,\\' the March Hare interrupted,\\nyawning. `I\\'m getting tired of this. I vote the young lady\\ntells us a story.\\'\\n\\n  `I\\'m afraid I don\\'t know one,\\' said Alice, rather alarmed at\\nthe proposal. `Then the Dormouse shall!\\' they both cried.' metadata={'author': 'Lewis Carroll', 'chapter': '7', 'chapter_title': 'A Mad Tea-Party.', 'characters': 'Alice, Hatter, March Hare, Dormouse, Queen of Hearts', 'edition': 'The Millennium Fulcrum Edition 3.0', 'key_events': \"Hatter and March Hare quarrelled last March, Hatter sang 'Twinkle, twinkle, little bat' at the Queen of Hearts' concert, Queen of Hearts accused Hatter of murdering time, It's always six o'clock and tea-time\", 'narrative_style': 'Dialogue', 'quotes': \"'Twinkle, twinkle, little bat! How I wonder what you're at!', 'He's murdering the time! Off with his head!', 'It's always tea-time, and we've no time to wash the things between whiles.'\", 'setting': 'Tea party', 'source': 'alice_in_wonderland.txt', 'summary': \"The Hatter explains to Alice that he and the March Hare quarrelled at a concert given by the Queen of Hearts, where he sang a nonsensical song. The Queen accused him of murdering time, resulting in it always being six o'clock and tea-time. Alice learns that they keep moving around the table as the tea-things get used up.\", 'themes': 'Madness, Time, Nonsense', 'title': \"Alice's Adventures in Wonderland\"}page_content=\"The Hatter's remark seemed to\\nhave no sort of meaning in it, and yet it was certainly English. `I don't quite understand you,' she said, as politely as she\\ncould. `The Dormouse is asleep again,' said the Hatter, and he poured\\na little hot tea upon its nose. The Dormouse shook its head impatiently, and said, without\\nopening its eyes, `Of course, of course; just what I was going to\\nremark myself.'\\n\\n  `Have you guessed the riddle yet?' the Hatter said, turning to\\nAlice again. `No, I give it up,' Alice replied:  `what's the answer?'\\n\\n  `I haven't the slightest idea,' said the Hatter. `Nor I,' said the March Hare.\" metadata={'author': 'Lewis Carroll', 'chapter': '7', 'chapter_title': 'A Mad Tea-Party.', 'characters': 'Alice, Hatter, Dormouse, March Hare', 'edition': 'The Millennium Fulcrum Edition 3.0', 'key_events': \"The Hatter pours hot tea on the Dormouse's nose, The Hatter asks Alice if she has guessed the riddle, Alice gives up on the riddle, The Hatter and March Hare admit they don't know the answer\", 'narrative_style': '', 'quotes': \"'I don't quite understand you,' she said, as politely as she could., 'The Dormouse is asleep again,' said the Hatter, and he poured a little hot tea upon its nose., 'Of course, of course; just what I was going to remark myself.', 'Have you guessed the riddle yet?' the Hatter said, turning to Alice again., 'No, I give it up,' Alice replied: 'what's the answer?', 'I haven't the slightest idea,' said the Hatter., 'Nor I,' said the March Hare.\", 'setting': '', 'source': 'alice_in_wonderland.txt', 'summary': 'Alice interacts with the Hatter, Dormouse, and March Hare. The Hatter asks Alice about a riddle, but neither he nor the March Hare know the answer.', 'themes': '', 'title': \"Alice's Adventures in Wonderland\"}\n"
     ]
    }
   ],
   "source": [
    "print(texts)"
   ]
  },
  {
   "cell_type": "markdown",
   "id": "d2e9c689-a3ee-41b9-a4f9-86c54d82e9ba",
   "metadata": {},
   "source": [
    "### RAG agent"
   ]
  },
  {
   "cell_type": "code",
   "execution_count": 21,
   "id": "5d82d4c5-3ac1-4783-b0b3-427c67b959f7",
   "metadata": {},
   "outputs": [],
   "source": [
    "llm = ChatOpenAI(model=\"gpt-4o\", temperature=0)"
   ]
  },
  {
   "cell_type": "code",
   "execution_count": 22,
   "id": "c67410f2-e71e-48a5-9d5b-391983bca8ae",
   "metadata": {},
   "outputs": [],
   "source": [
    "prompt_template = f\"\"\"\n",
    "Your goal is to incorporate a provided best answer and then enrich it with additional relevant information from a given context. Follow these steps carefully:\n",
    "\n",
    "1. First, you will be presented with a user's query. Read it carefully to understand the information being sought.\n",
    "\n",
    "2. Next, you will be given a \"best answer\" to the query. This answer should form the foundation of your response.\n",
    "\n",
    "3. Finally, you will be provided with additional context. This context may contain supplementary information that can be used to expand upon the best answer.\n",
    "\n",
    "Here is the user's query:\n",
    "<user_query>\n",
    "{query_raptor}\n",
    "</user_query>\n",
    "\n",
    "Here is the best answer to the query:\n",
    "<best_answer>\n",
    "{query_semantic} \n",
    "</best_answer>\n",
    "\n",
    "Begin your response by incorporating the information from the best answer. Paraphrase and restructure the content as needed to fit naturally into your response, but ensure that all key points from the best answer are included.\n",
    "\n",
    "Now, consider the following additional context:\n",
    "<context>\n",
    "{texts}\n",
    "</context>\n",
    "\n",
    "After incorporating the best answer, enrich and expand your response using relevant information from the context. Look for details that:\n",
    "- Provide additional explanation or clarification of concepts mentioned in the best answer\n",
    "- Offer relevant examples or case studies\n",
    "- Present related facts or statistics\n",
    "- Introduce complementary or contrasting viewpoints\n",
    "- Address potential follow-up questions the user might have\n",
    "\n",
    "Integrate this information seamlessly into your response, ensuring a logical flow of ideas. Be sure to only include information that is directly relevant to the user's query and the best answer.\n",
    "\n",
    "Remember to maintain a coherent and engaging writing style throughout your response. Aim for clarity and conciseness while providing a thorough answer to the user's query.\n",
    "\"\"\""
   ]
  },
  {
   "cell_type": "code",
   "execution_count": 23,
   "id": "6809d3e3-f0f4-4ba1-adb7-56d3a6d47d08",
   "metadata": {},
   "outputs": [],
   "source": [
    "messages = [\n",
    "    (\"system\", \"You are an AI assistant tasked with providing comprehensive and informative responses to user queries.\"),\n",
    "    (\"human\", prompt_template),\n",
    "]"
   ]
  },
  {
   "cell_type": "code",
   "execution_count": 24,
   "id": "0567c30c-47a5-4649-9328-7c1cd2ea3a84",
   "metadata": {},
   "outputs": [],
   "source": [
    "answer = llm.invoke(messages)"
   ]
  },
  {
   "cell_type": "markdown",
   "id": "4a15e8b5-6b65-449a-83eb-f562dbff8d3b",
   "metadata": {},
   "source": [
    "### Final RAG answer"
   ]
  },
  {
   "cell_type": "code",
   "execution_count": 25,
   "id": "05fd5341-4411-4c8d-af55-d17e143d509c",
   "metadata": {},
   "outputs": [
    {
     "name": "stdout",
     "output_type": "stream",
     "text": [
      "In Lewis Carroll's \"Alice's Adventures in Wonderland,\" during the famous Mad Tea-Party scene, the March Hare offers Alice some wine. However, when Alice looks around the table, she finds that there is no wine present. The March Hare then admits, \"There isn't any,\" which leads Alice to remark that it was not very civil of him to offer something that did not exist. The March Hare retorts that it was not very civil of Alice to sit down without being invited.\n",
      "\n",
      "This interaction is a classic example of the whimsical and nonsensical nature of the characters and their dialogue in Wonderland. The tea party itself is a chaotic and surreal event, with the March Hare, the Hatter, and the Dormouse engaging in bizarre conversations and behavior. For instance, the Hatter asks Alice a riddle, \"Why is a raven like a writing-desk?\" but neither he nor the March Hare knows the answer, highlighting the absurdity of their world.\n",
      "\n",
      "The setting of the tea party is also quite peculiar. The table is set out under a tree in front of the March Hare's house, which has chimneys shaped like ears and a roof thatched with fur. The characters are crowded together at one corner of the large table, using the Dormouse as a cushion while it sleeps. This scene underscores the theme of madness that permeates the story, as the characters' actions and conversations defy logic and reason.\n",
      "\n",
      "Additionally, the tea party is perpetually ongoing because, as the Hatter explains, \"It's always tea-time, and we've no time to wash the things between whiles.\" This eternal tea-time is a result of the Hatter's quarrel with Time, who has stopped moving forward for them, trapping them in an endless loop of tea parties.\n",
      "\n",
      "Overall, the offer of wine by the March Hare, despite its nonexistence, is just one of many instances in the Mad Tea-Party that exemplify the whimsical and illogical world that Alice finds herself in.\n"
     ]
    }
   ],
   "source": [
    "print(answer.content)"
   ]
  },
  {
   "cell_type": "markdown",
   "id": "58f2a456-eb17-4ade-9924-6924da0798f7",
   "metadata": {},
   "source": [
    "### QUERIES"
   ]
  },
  {
   "cell_type": "code",
   "execution_count": 26,
   "id": "74efeb73-579a-4ffc-a852-ecc74bfded79",
   "metadata": {},
   "outputs": [],
   "source": [
    "query_raptor = \"What did the March Hare offer to Alice at A Mad Tea-Party?\""
   ]
  },
  {
   "cell_type": "code",
   "execution_count": 27,
   "id": "0ec67b2e-eab1-4229-8e65-cde3a4ca82fa",
   "metadata": {},
   "outputs": [],
   "source": [
    "query_raptor = \"What did Mad Hatter say to Alice at Mad Tea Party?\""
   ]
  },
  {
   "cell_type": "code",
   "execution_count": 28,
   "id": "9739666b-5844-4241-89aa-bfeb5e3450df",
   "metadata": {},
   "outputs": [],
   "source": [
    "query_raptor = \"When did Cheshire Cat meet the Queen?\""
   ]
  },
  {
   "cell_type": "code",
   "execution_count": 29,
   "id": "e29f405a-ebf2-4d7a-bdab-d77e4a25a38b",
   "metadata": {},
   "outputs": [],
   "source": [
    "query_raptor = \"Who wakes up Alice at the end of the story?\""
   ]
  },
  {
   "cell_type": "code",
   "execution_count": 30,
   "id": "a905d5be-f0f7-48d4-a9be-36cbe18a79de",
   "metadata": {},
   "outputs": [],
   "source": [
    "query_raptor = \"Accurately describe the character of the Cheshire Cat\""
   ]
  },
  {
   "cell_type": "code",
   "execution_count": 31,
   "id": "52361cfc-8cea-41eb-9dff-0c45e241740d",
   "metadata": {},
   "outputs": [],
   "source": [
    "query_raptor = \"What is the role of the Dodo?\""
   ]
  },
  {
   "cell_type": "code",
   "execution_count": null,
   "id": "8576411d-d8e3-45ae-ac97-43b4b62b1830",
   "metadata": {},
   "outputs": [],
   "source": []
  }
 ],
 "metadata": {
  "kernelspec": {
   "display_name": "Python 3 (ipykernel)",
   "language": "python",
   "name": "python3"
  },
  "language_info": {
   "codemirror_mode": {
    "name": "ipython",
    "version": 3
   },
   "file_extension": ".py",
   "mimetype": "text/x-python",
   "name": "python",
   "nbconvert_exporter": "python",
   "pygments_lexer": "ipython3",
   "version": "3.10.12"
  }
 },
 "nbformat": 4,
 "nbformat_minor": 5
}
