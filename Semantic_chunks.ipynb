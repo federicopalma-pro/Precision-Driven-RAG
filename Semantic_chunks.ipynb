{
 "cells": [
  {
   "cell_type": "markdown",
   "id": "80b76550-c0e7-4683-9f8d-f22590a1ac0d",
   "metadata": {},
   "source": [
    "### System libraries & setup"
   ]
  },
  {
   "cell_type": "code",
   "execution_count": 1,
   "id": "26fe6964-55ae-460c-b707-60a3c12a4890",
   "metadata": {},
   "outputs": [],
   "source": [
    "import os\n",
    "import chromadb"
   ]
  },
  {
   "cell_type": "code",
   "execution_count": 2,
   "id": "7fe47358-2344-4882-b4eb-2fbad95331dc",
   "metadata": {},
   "outputs": [],
   "source": [
    "from langchain_chroma import Chroma\n",
    "from langchain_community.document_loaders import TextLoader\n",
    "from langchain_openai import OpenAIEmbeddings\n",
    "from langchain_experimental.text_splitter import SemanticChunker\n",
    "from dotenv import load_dotenv"
   ]
  },
  {
   "cell_type": "code",
   "execution_count": 3,
   "id": "eda9380d-e3fd-4c22-9715-7dc61310867b",
   "metadata": {},
   "outputs": [],
   "source": [
    "load_dotenv()\n",
    "OPENAI_API_KEY = os.getenv(\"OPENAI_API_KEY\")\n",
    "embeddings = OpenAIEmbeddings(model=\"text-embedding-3-small\")"
   ]
  },
  {
   "cell_type": "markdown",
   "id": "cf85dad4-11dc-465d-a08c-d954f7f0031c",
   "metadata": {},
   "source": [
    "### Load document"
   ]
  },
  {
   "cell_type": "code",
   "execution_count": 4,
   "id": "87c1c90b-fd8b-4db3-bb98-79eb34094fea",
   "metadata": {},
   "outputs": [],
   "source": [
    "loader = TextLoader(\"documents/alice_in_wonderland.txt\")\n",
    "documents = loader.load()"
   ]
  },
  {
   "cell_type": "markdown",
   "id": "410e1f08-f352-4e93-8319-5cfb97b9f246",
   "metadata": {},
   "source": [
    "### Chunk process and Database loading"
   ]
  },
  {
   "cell_type": "code",
   "execution_count": 5,
   "id": "b1637d77-3da9-4740-83c3-d8411e477c44",
   "metadata": {},
   "outputs": [],
   "source": [
    "text_splitter = SemanticChunker(\n",
    "                                embeddings=embeddings,\n",
    "                                breakpoint_threshold_type=\"percentile\",\n",
    "                                breakpoint_threshold_amount=95,\n",
    ")"
   ]
  },
  {
   "cell_type": "code",
   "execution_count": 6,
   "id": "feddc881-d18a-406f-81ff-99806b1f1608",
   "metadata": {},
   "outputs": [],
   "source": [
    "docs = text_splitter.split_documents(documents)"
   ]
  },
  {
   "cell_type": "code",
   "execution_count": 7,
   "id": "a9109366-ada8-41ae-a67b-b0518f95a429",
   "metadata": {},
   "outputs": [
    {
     "data": {
      "text/plain": [
       "49"
      ]
     },
     "execution_count": 7,
     "metadata": {},
     "output_type": "execute_result"
    }
   ],
   "source": [
    "len(docs)"
   ]
  },
  {
   "cell_type": "code",
   "execution_count": 8,
   "id": "3277feae-4541-490a-9a63-a4f0d8ec4bf7",
   "metadata": {},
   "outputs": [],
   "source": [
    "persistent_client = chromadb.PersistentClient(path=\"./semantic_db\")\n",
    "collection = persistent_client.get_or_create_collection(\"docs\")"
   ]
  },
  {
   "cell_type": "code",
   "execution_count": 9,
   "id": "82e681d2-82af-4b62-b48e-100eb35f0449",
   "metadata": {},
   "outputs": [],
   "source": [
    "db_chroma = Chroma(\n",
    "    client=persistent_client,\n",
    "    collection_name=\"docs\",\n",
    "    embedding_function=embeddings,\n",
    ")"
   ]
  },
  {
   "cell_type": "code",
   "execution_count": 10,
   "id": "1e167463-62a8-4eb2-8e64-02570fb2006c",
   "metadata": {},
   "outputs": [
    {
     "data": {
      "text/plain": [
       "['07ca1092-f292-401d-9d8b-fabec69e5f72',\n",
       " 'cac79c73-f045-4fb4-96eb-e2147cab277e',\n",
       " '4af590b4-24df-4b4d-ad10-c476b059aca5',\n",
       " 'c0d9b440-5033-4b0d-ae37-8edd053c4ef1',\n",
       " '4a19bfd2-d87b-4502-904a-5a91ac240459',\n",
       " '57bd8253-8bbc-4cd8-9cf8-68be830fd1a1',\n",
       " '6e0d5aa1-4eb6-4d8b-9966-7d3c2b259009',\n",
       " 'd89ceb03-b170-42ae-91f1-960313639dd3',\n",
       " '65ce85ba-fc82-41f0-95a6-23bbc3b54ffb',\n",
       " 'b810208a-f379-41a8-ae6b-59b455868f5c',\n",
       " '4c7f1d8f-6dfe-48d7-9686-b9afeda00a31',\n",
       " '2ebc0873-f981-4274-bceb-7817191acaa2',\n",
       " '334e1672-a88e-49a6-9579-89dba422e89a',\n",
       " '891a5456-301f-4ddf-85d4-49d6dbd9c353',\n",
       " 'df3c1313-3ab8-475c-bd76-58f5a5abfb72',\n",
       " '0ddea1fa-1350-44c8-9033-cead87f9b750',\n",
       " '43093203-55b5-4b06-a5d1-28ac2ad83ee1',\n",
       " 'a4b3695b-aabe-489d-b067-64ab2ce5855a',\n",
       " '741e0e7e-805f-48e6-a9b0-1bbfcc471bd9',\n",
       " '12fef396-5dc3-4096-a620-88517a1f1642',\n",
       " 'bece7716-83a1-4479-9bfe-74aab7f74fb7',\n",
       " '6ed89b4c-d146-47e2-ba33-eec4e32ef0bd',\n",
       " 'd25249c6-dfa3-4937-9fe1-49c76aa514da',\n",
       " 'cb33c22c-d5c6-4a3e-b1fb-ca33580fa131',\n",
       " '82d28157-7da6-4257-be15-804fd7f2a4b9',\n",
       " '137ed9d7-aa5e-46cf-81ae-925adb29615d',\n",
       " '4673919f-0bcf-4fb9-a9c8-3bf42ab09e1c',\n",
       " '47cc4f1d-b6ed-4fc4-bc30-f01fc7b027f4',\n",
       " '69cfc67a-a6c6-4b8f-815a-af89fbcd511f',\n",
       " 'b744b6d4-cd35-47e5-9e06-e59dee19f314',\n",
       " '3b280324-9cab-4fcb-a5fe-d8bbd5d060c6',\n",
       " '3b9a5bfe-e843-4eca-b784-caf4a8248d42',\n",
       " '32e487de-d562-4e5b-9b3b-4c36dc05291f',\n",
       " '6ccd26b4-488f-4c06-99b8-0858a084a7bf',\n",
       " 'fd4235a4-006a-457d-b979-1f12e8a1e393',\n",
       " 'a952d0d2-0f38-4c38-b5e7-4a4e801a41bf',\n",
       " '8ebc1a53-99c8-471e-b775-37ab642055a1',\n",
       " '768ca5bc-eb0a-4f97-896c-91d313fb955b',\n",
       " 'b8d31f2f-ae8b-4917-ad62-592d59d7ccc3',\n",
       " 'e2c291c9-f6c7-46af-bcf6-8c242a638e5b',\n",
       " '322cbaf9-e6c6-426e-8076-01f83f2c1867',\n",
       " '8e47a448-67e8-4f44-bf3e-4c328a63502a',\n",
       " 'd6aee062-4d02-43c2-8d6b-caea16169671',\n",
       " '02077054-496d-4b39-935b-7fa950ba2b13',\n",
       " '95e9f31e-eaca-4625-a31a-7d8554d80411',\n",
       " '1d673d73-697e-4f6a-be31-0da09696320a',\n",
       " '879f1679-437b-45cb-8dd8-14c6f2a91982',\n",
       " 'd9e7b103-2f97-4d7c-96e7-772ef257b4e4',\n",
       " '985d5a1a-bcc8-4e0b-b159-88da280dbd6e']"
      ]
     },
     "execution_count": 10,
     "metadata": {},
     "output_type": "execute_result"
    }
   ],
   "source": [
    "db_chroma.add_documents(documents=docs)"
   ]
  },
  {
   "cell_type": "code",
   "execution_count": null,
   "id": "fb2deabe-534a-4b05-97fc-2e842a1adbbf",
   "metadata": {},
   "outputs": [],
   "source": []
  },
  {
   "cell_type": "code",
   "execution_count": null,
   "id": "21a0ec23-c81f-49c0-90c8-71ed1c9512ce",
   "metadata": {},
   "outputs": [],
   "source": []
  },
  {
   "cell_type": "code",
   "execution_count": null,
   "id": "720b13a5-bd63-419a-a665-c02d815268da",
   "metadata": {},
   "outputs": [],
   "source": []
  }
 ],
 "metadata": {
  "kernelspec": {
   "display_name": "Python 3 (ipykernel)",
   "language": "python",
   "name": "python3"
  },
  "language_info": {
   "codemirror_mode": {
    "name": "ipython",
    "version": 3
   },
   "file_extension": ".py",
   "mimetype": "text/x-python",
   "name": "python",
   "nbconvert_exporter": "python",
   "pygments_lexer": "ipython3",
   "version": "3.10.12"
  }
 },
 "nbformat": 4,
 "nbformat_minor": 5
}
