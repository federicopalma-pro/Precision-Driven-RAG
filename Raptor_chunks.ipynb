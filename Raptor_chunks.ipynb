{
 "cells": [
  {
   "cell_type": "markdown",
   "id": "e30e9bba-a11c-488e-8b24-3c175f228aba",
   "metadata": {},
   "source": [
    "### System libraries & setup"
   ]
  },
  {
   "cell_type": "code",
   "execution_count": 1,
   "id": "33dcd44c-5e28-48e7-a813-06c44c72dc57",
   "metadata": {},
   "outputs": [],
   "source": [
    "import chromadb\n",
    "import os\n",
    "import nest_asyncio\n",
    "from llama_index.packs.raptor import RaptorPack\n",
    "from llama_index.core.node_parser import SemanticSplitterNodeParser\n",
    "from llama_index.llms.openai import OpenAI\n",
    "from llama_index.embeddings.openai import OpenAIEmbedding\n",
    "from llama_index.vector_stores.chroma import ChromaVectorStore\n",
    "from llama_index.core import SimpleDirectoryReader\n",
    "from dotenv import load_dotenv"
   ]
  },
  {
   "cell_type": "code",
   "execution_count": 2,
   "id": "93e0726b-ee74-43c2-a943-8b3d093d1b66",
   "metadata": {},
   "outputs": [],
   "source": [
    "nest_asyncio.apply()\n",
    "load_dotenv()\n",
    "OPENAI_API_KEY = os.getenv(\"OPENAI_API_KEY\")\n",
    "embed_model = OpenAIEmbedding(model=\"text-embedding-3-small\")"
   ]
  },
  {
   "cell_type": "markdown",
   "id": "83adcece-192e-49fd-9f80-94af17af8960",
   "metadata": {},
   "source": [
    "### Load document"
   ]
  },
  {
   "cell_type": "code",
   "execution_count": 3,
   "id": "1cae6180-247f-4fa0-888a-44d12d0b6f38",
   "metadata": {},
   "outputs": [],
   "source": [
    "documents = SimpleDirectoryReader(input_files=[\"documents/alice_in_wonderland.txt\"]).load_data()"
   ]
  },
  {
   "cell_type": "markdown",
   "id": "ae353c4c-347f-43fd-8917-3bd6d54af35e",
   "metadata": {},
   "source": [
    "### Setup Database"
   ]
  },
  {
   "cell_type": "code",
   "execution_count": 4,
   "id": "d87316c8-4de6-4501-822f-392fc7b69924",
   "metadata": {},
   "outputs": [],
   "source": [
    "client = chromadb.PersistentClient(path=\".//raptor_db\")\n",
    "collection = client.get_or_create_collection(\"docs\")\n",
    "vector_store = ChromaVectorStore(chroma_collection=collection)"
   ]
  },
  {
   "cell_type": "markdown",
   "id": "16c85bc6-ac97-45e4-8664-ada671c846ae",
   "metadata": {},
   "source": [
    "### RAPTOR process"
   ]
  },
  {
   "cell_type": "code",
   "execution_count": null,
   "id": "1c1471ed-cfa6-46f5-9fbc-7ff0d87ac911",
   "metadata": {},
   "outputs": [],
   "source": [
    "raptor_pack = RaptorPack(\n",
    "    documents,\n",
    "    embed_model=embed_model,\n",
    "    llm=OpenAI(model=\"gpt-4o\", temperature=0.1),  # used for generating summaries\n",
    "    vector_store=vector_store,  # used for storage\n",
    "    transformations=[SemanticSplitterNodeParser(buffer_size=1, breakpoint_percentile_threshold=95, embed_model=embed_model)],\n",
    ")"
   ]
  },
  {
   "cell_type": "code",
   "execution_count": null,
   "id": "b7f5df5d-cec5-4481-8582-a2b7c49c2709",
   "metadata": {},
   "outputs": [],
   "source": []
  }
 ],
 "metadata": {
  "kernelspec": {
   "display_name": "Python 3 (ipykernel)",
   "language": "python",
   "name": "python3"
  },
  "language_info": {
   "codemirror_mode": {
    "name": "ipython",
    "version": 3
   },
   "file_extension": ".py",
   "mimetype": "text/x-python",
   "name": "python",
   "nbconvert_exporter": "python",
   "pygments_lexer": "ipython3",
   "version": "3.10.12"
  }
 },
 "nbformat": 4,
 "nbformat_minor": 5
}
