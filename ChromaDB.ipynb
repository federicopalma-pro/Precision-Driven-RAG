{
 "cells": [
  {
   "cell_type": "markdown",
   "id": "e585295d-bcb6-4f11-af13-686a3045c135",
   "metadata": {},
   "source": [
    "### System libraries"
   ]
  },
  {
   "cell_type": "code",
   "execution_count": 1,
   "id": "e68031f5-ac47-4545-808a-d5ed02d496a5",
   "metadata": {},
   "outputs": [],
   "source": [
    "import chromadb"
   ]
  },
  {
   "cell_type": "markdown",
   "id": "52dc65d0-803d-4ae2-b91f-ec9ecb7e14d0",
   "metadata": {},
   "source": [
    "### RAPTOR Database"
   ]
  },
  {
   "cell_type": "code",
   "execution_count": 2,
   "id": "f0fdc95e-cc5e-49f2-9ed0-1d938e3e1faa",
   "metadata": {},
   "outputs": [],
   "source": [
    "client = chromadb.PersistentClient(path=\"./raptor_db\")"
   ]
  },
  {
   "cell_type": "code",
   "execution_count": 3,
   "id": "731a6f1c-3f42-4e0d-9d55-bb0130260185",
   "metadata": {
    "scrolled": true
   },
   "outputs": [],
   "source": [
    "collection_raptor = client.get_collection(\"docs\")"
   ]
  },
  {
   "cell_type": "code",
   "execution_count": 4,
   "id": "971c8674-615c-4cd2-ab28-c08f5f2c443a",
   "metadata": {},
   "outputs": [
    {
     "data": {
      "text/plain": [
       "dict_keys(['ids', 'embeddings', 'metadatas', 'documents', 'uris', 'data', 'included'])"
      ]
     },
     "execution_count": 4,
     "metadata": {},
     "output_type": "execute_result"
    }
   ],
   "source": [
    "collection_raptor.get().keys()"
   ]
  },
  {
   "cell_type": "code",
   "execution_count": 5,
   "id": "cfa1911a-ff75-4c7f-9953-378757c5f967",
   "metadata": {},
   "outputs": [
    {
     "data": {
      "text/plain": [
       "98"
      ]
     },
     "execution_count": 5,
     "metadata": {},
     "output_type": "execute_result"
    }
   ],
   "source": [
    "len(collection_raptor.get()['ids'])"
   ]
  },
  {
   "cell_type": "markdown",
   "id": "ec2de507-1b08-419a-88f3-34655a5d90c4",
   "metadata": {},
   "source": [
    "### Semantic chunks Database"
   ]
  },
  {
   "cell_type": "code",
   "execution_count": 6,
   "id": "7add02af-ec68-4b5e-92bd-20e5288e9735",
   "metadata": {},
   "outputs": [],
   "source": [
    "client2 = chromadb.PersistentClient(path=\"./semantic_db\")"
   ]
  },
  {
   "cell_type": "code",
   "execution_count": 7,
   "id": "7b1698f4-e413-4658-84a1-9846b04b442b",
   "metadata": {},
   "outputs": [],
   "source": [
    "collection_chunks = client2.get_collection(\"docs\")"
   ]
  },
  {
   "cell_type": "code",
   "execution_count": 8,
   "id": "3dba03ed-9cc3-4d3f-8cbc-8fe4d749c5a2",
   "metadata": {},
   "outputs": [
    {
     "data": {
      "text/plain": [
       "dict_keys(['ids', 'embeddings', 'metadatas', 'documents', 'uris', 'data', 'included'])"
      ]
     },
     "execution_count": 8,
     "metadata": {},
     "output_type": "execute_result"
    }
   ],
   "source": [
    "collection_chunks.get().keys()"
   ]
  },
  {
   "cell_type": "code",
   "execution_count": 9,
   "id": "e78e0e98-0c4b-43f1-b2ec-5a4021c0ee7a",
   "metadata": {},
   "outputs": [
    {
     "data": {
      "text/plain": [
       "49"
      ]
     },
     "execution_count": 9,
     "metadata": {},
     "output_type": "execute_result"
    }
   ],
   "source": [
    "len(collection_chunks.get()['ids'])"
   ]
  },
  {
   "cell_type": "code",
   "execution_count": null,
   "id": "d9618d57-adc2-474a-9f5d-54715676ef06",
   "metadata": {},
   "outputs": [],
   "source": []
  }
 ],
 "metadata": {
  "kernelspec": {
   "display_name": "Python 3 (ipykernel)",
   "language": "python",
   "name": "python3"
  },
  "language_info": {
   "codemirror_mode": {
    "name": "ipython",
    "version": 3
   },
   "file_extension": ".py",
   "mimetype": "text/x-python",
   "name": "python",
   "nbconvert_exporter": "python",
   "pygments_lexer": "ipython3",
   "version": "3.10.12"
  }
 },
 "nbformat": 4,
 "nbformat_minor": 5
}
